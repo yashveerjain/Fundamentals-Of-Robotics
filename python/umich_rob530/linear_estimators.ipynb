{
 "cells": [
  {
   "cell_type": "markdown",
   "metadata": {},
   "source": [
    "# NA 568 Mobile Robotics: Methods \\& Algorithms Winter 2021 -- Homework 2 -- Kalman Filtering\n",
    "\n",
    "University of Michigan\\\n",
    "January 25, 2021"
   ]
  },
  {
   "cell_type": "markdown",
   "metadata": {},
   "source": [
    "## Task 5. Estimation (40 points)\n",
    "Assume that we want to estimate an unobserved population parameter $\\theta$ on the basis of observations $x$. Let $f$ be the sampling distribution of $x$ so that $f(x|\\theta)$ is the probability of $x$ when the underlying population parameter is $\\theta$. The function $L(\\theta) = f(x|\\theta)$ when viewed as a function of the parameter $\\theta$ is called the likelihood function or just the likelihood.\n",
    "For example, if $x$ follows a Gaussian distribution, we will have $\\theta = (\\mu, \\sigma^2)$ and $$\\mu, \\sigma \\mapsto f(x|\\mu,\\sigma^2) = \\frac{1}{\\sigma \\sqrt{2\\pi}}\\exp(-\\frac{1}{2}\\frac{(x-\\mu)^2}{\\sigma^2})$$ is the likelihood. \n",
    "\n",
    "**Maximum Likelihood Estimator (MLE):** The maximum likelihood method maximizes the likelihood function, leading to the MLE\n",
    "\\begin{equation} \n",
    "    \\nonumber \\hat{\\theta}_{MLE} = \\text{argmax}_\\theta L(\\theta) = \\text{argmax}_\\theta f(x|\\theta).\n",
    "\\end{equation}\n",
    "\n",
    "**Maximum A Posteriori (MAP) Estimator:** In the Bayesian framework, one can place a prior distribution over the parameter, i.e., $g(\\theta)$. Then, the MAP estimator maximizes the posterior probability density function $f(\\theta|x)$ as follows.\n",
    "\\begin{equation}\\nonumber\n",
    "    \\hat{\\theta}_{MAP} = \\text{argmax}_\\theta f(\\theta|x)\n",
    "    = \\text{argmax}_\\theta \\frac{f(x|\\theta)g(\\theta)}{\\int_\\Theta f(x|\\vartheta)g(\\vartheta)d\\vartheta}\n",
    "    = \\text{argmax}_\\theta f(x|\\theta)g(\\theta),\n",
    "\\end{equation}\n",
    "were the last equality is true because the normalization constant in the Bayes' formula is independent of $\\theta$.\n",
    "\n",
    "**Remark:**\n",
    "Since $\\log$ is a monotonic function, it is often the case that we use the logarithm of the likelihood or posterior for maximization (or negative of the logarithm for minimization).\n",
    "\n",
    "\n",
    "Now suppose we have a continuous random variable $\\theta \\sim \\mathcal{N}(\\mu,\\sigma^2)$. We wish to infer its mean and variance as we obtain normally distributed measurements sequentially. For the case of a random mean, $\\mu$, and fixed variance, $\\sigma^2$:"
   ]
  },
  {
   "cell_type": "markdown",
   "metadata": {},
   "source": [
    "### C. (20 pts) \n",
    "You are responsible for purchasing a sensor that can measure the range (distance) to an object. \n",
    "Sensor I (\\$100) and II (\\$500) are both used to measure the range to an object. \n",
    "Suppose the measurements are noisy values of the range, $x$, such that $z \\sim \\mathcal{N}(\\mu_z,\\sigma_z^2)$ with variances of 1 (I) and 0.64 (II). The measurements obtained from these sensors can be seen in Table I and II. Parameterize the prior of $x$ with $\\mu = 0$ and $\\sigma ^2 = 1000$. Using the derivations from part B, write a Matlab function that takes data as input and solves the inference recursively.\n",
    "C.1 Use the sensor data and the Matlab function to infer the mean and variance of the normally distributed random variable $x$ conditioned only on $z_1$.\n",
    "C.2 Use the sensor data and the Matlab function to infer the mean and variance of the normally distributed random variable $x$ conditioned only on $z_2$.\n",
    "C.3 Why is it that $x$ is more precise~\\footnote{\\href{https://en.wikipedia.org/wiki/Precision\\_(statistics)}{https://en.wikipedia.org/wiki/Precision\\_(statistics)}} when conditioned on $z_1$ even though sensor II is more accurate? which sensor do you recommend to be purchased?\n",
    "\n",
    "Table 1: Sensor I Data\n",
    "    \n",
    "| N   | $Z_1$     |\n",
    "| --- | --------- |\n",
    "| 1   | 10.6715   |\n",
    "| 2   | 8.7925    |\n",
    "| 3   | 10.7172   |\n",
    "| 4   | 11.6302   |\n",
    "| 5   | 10.4889   |\n",
    "| 6   | 11.0347   |\n",
    "| 7   | 10.7269   |\n",
    "| 8   | 9.6966    |\n",
    "| 9   | 10.2939   |\n",
    "| 10  | 9.2127    |\n",
    "\n",
    "Table 2: Sensor II Data\n",
    "    \n",
    "| N   | $Z_2$     |\n",
    "| --- | --------- |\n",
    "| 1   | 10.7107   |\n",
    "| 2   | 9.0823    |\n",
    "| 3   | 9.1449    |\n",
    "| 4   | 9.3524    |\n",
    "| 5   | 10.2602   |"
   ]
  },
  {
   "cell_type": "code",
   "execution_count": 11,
   "metadata": {},
   "outputs": [
    {
     "name": "stdout",
     "output_type": "stream",
     "text": [
      "sensor   mean  variance  precision(1/variance)\n",
      "  I     10.325 0.100 10.001\n",
      " II      9.709 0.128 7.813\n"
     ]
    }
   ],
   "source": [
    "# data from sensor I\n",
    "z1 = [10.6715, 8.7925, 10.7172, 11.6302, 10.4889, 11.0347, 10.7269, 9.6966, 10.2939, 9.2127]\n",
    "\n",
    "# data from sensor II\n",
    "z2 = [10.7107, 9.0823, 9.1449, 9.3524, 10.2602]\n",
    "\n",
    "# noise variance of sensor I\n",
    "sigma_z1 = 1\n",
    "\n",
    "# noise variance of sensor II\n",
    "sigma_z2 = 0.64\n",
    "\n",
    "# non-informative prior\n",
    "mu_1 = 0\n",
    "sigma_1 = 1000\n",
    "mu_2 = 0\n",
    "sigma_2 = 1000\n",
    "\n",
    "# MAP Bayesian inference using Gaussian prior and likelihood\n",
    "def Inference(mu, sigma, sigma_z, z):\n",
    "#############################################################################\n",
    "#                    TODO: Implement your code here                         #\n",
    "#############################################################################\n",
    "    var_z = 1/sigma_z\n",
    "    var = 1/sigma\n",
    "    cov = var_z + var\n",
    "    sigma = 1/cov\n",
    "    mu = (var_z*z + var*mu)*sigma\n",
    "\n",
    "\n",
    "#############################################################################\n",
    "#                            END OF YOUR CODE                               #\n",
    "#############################################################################\n",
    "    return mu, sigma\n",
    "\n",
    "# recursive inference with data from sensor I and sensor II\n",
    "#############################################################################\n",
    "#                    TODO: Implement your code here                         #\n",
    "#############################################################################\n",
    "# run inferece using z1\n",
    "for z in z1:\n",
    "    mu_1, sigma_1 = Inference(mu_1, sigma_1, sigma_z1, z)\n",
    "\n",
    "for z in z2:\n",
    "    mu_2, sigma_2 = Inference(mu_2, sigma_2, sigma_z2, z)\n",
    "\n",
    "# run inferece using z2\n",
    "\n",
    "#############################################################################\n",
    "#                            END OF YOUR CODE                               #\n",
    "#############################################################################\n",
    "\n",
    "print(\"sensor   mean  variance  precision(1/variance)\")\n",
    "print(\"  I%11.3f% 0.3f% 0.3f\" % (mu_1, sigma_1, 1/sigma_1))\n",
    "print(\" II%11.3f% 0.3f% 0.3f\" % (mu_2, sigma_2, 1/sigma_2))"
   ]
  },
  {
   "cell_type": "markdown",
   "metadata": {},
   "source": [
    "### D. (5 pts)\n",
    "Use a Kalman filter class and write a program to solve C1 and C2. Compare your results with the MAP estimator. What is the conclusion now and why?"
   ]
  },
  {
   "cell_type": "code",
   "execution_count": 12,
   "metadata": {},
   "outputs": [
    {
     "name": "stdout",
     "output_type": "stream",
     "text": [
      "sensor   mean  variance  precision(1/variance)\n",
      "  I     10.325   0.100    10.001\n",
      " II      9.709   0.128     7.813\n"
     ]
    }
   ],
   "source": [
    "# reset non−informative prior\n",
    "mu_1 = 0\n",
    "sigma_1 = 1000\n",
    "mu_2 = 0\n",
    "sigma_2 = 1000\n",
    "\n",
    "# Kalman Filter Measurement Update\n",
    "def KF_update(mu, sigma, sigma_R, z):\n",
    "#############################################################################\n",
    "#                    TODO: Implement your code here                         #\n",
    "#############################################################################\n",
    "    var_z = 1/sigma_R\n",
    "    var = 1/sigma\n",
    "\n",
    "    k = sigma/(sigma+sigma_R)\n",
    "    cov = var_z + var\n",
    "    sigma = 1/cov\n",
    "    # mu = (var_z*z + var*mu)*sigma\n",
    "    mu = mu + k * (z-mu)\n",
    "\n",
    "    return mu, sigma\n",
    "\n",
    "#############################################################################\n",
    "#                            END OF YOUR CODE                               #\n",
    "#############################################################################\n",
    "\n",
    "# recursive inference with data from sensor I and sensor II\n",
    "#############################################################################\n",
    "#                    TODO: Implement your code here                         #\n",
    "#############################################################################\n",
    "# run inferece using z1\n",
    "for z in z1:\n",
    "    mu_1, sigma_1 = KF_update(mu_1, sigma_1, sigma_z1, z)\n",
    "\n",
    "for z in z2:\n",
    "    mu_2, sigma_2 = KF_update(mu_2, sigma_2, sigma_z2, z)\n",
    "\n",
    "# run inferece using z2\n",
    "\n",
    "\n",
    "#############################################################################\n",
    "#                            END OF YOUR CODE                               #\n",
    "#############################################################################\n",
    "\n",
    "print(\"sensor   mean  variance  precision(1/variance)\")\n",
    "print(\"  I%11.3f%8.3f%10.3f\" % (mu_1, sigma_1, 1/sigma_1))\n",
    "print(\" II%11.3f%8.3f%10.3f\" % (mu_2, sigma_2, 1/sigma_2))"
   ]
  },
  {
   "cell_type": "code",
   "execution_count": null,
   "metadata": {},
   "outputs": [],
   "source": []
  }
 ],
 "metadata": {
  "kernelspec": {
   "display_name": "MLProj",
   "language": "python",
   "name": "python3"
  },
  "language_info": {
   "codemirror_mode": {
    "name": "ipython",
    "version": 3
   },
   "file_extension": ".py",
   "mimetype": "text/x-python",
   "name": "python",
   "nbconvert_exporter": "python",
   "pygments_lexer": "ipython3",
   "version": "3.10.14"
  }
 },
 "nbformat": 4,
 "nbformat_minor": 4
}
