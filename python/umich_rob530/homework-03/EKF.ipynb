{
 "cells": [
  {
   "cell_type": "code",
   "execution_count": 3,
   "metadata": {},
   "outputs": [],
   "source": [
    "import pandas as pd\n",
    "import numpy as np\n",
    "import os\n",
    "import matplotlib.pyplot as plt"
   ]
  },
  {
   "cell_type": "code",
   "execution_count": 12,
   "metadata": {},
   "outputs": [],
   "source": [
    "def load_data_camera(K_csv, C_csv):\n",
    "    \"\"\"Loads data from the specified path\"\"\"\n",
    "    K = pd.read_csv(K_csv, header=None).to_numpy()\n",
    "    # print(pd.read_csv(K_csv))\n",
    "    C = pd.read_csv(C_csv, header=None).to_numpy()\n",
    "    return K, C\n",
    "\n",
    "def load_measurement(meas_csv):\n",
    "    \"\"\"Loads data from the specified path\"\"\"\n",
    "    meas = pd.read_csv(meas_csv,header=None).to_numpy()\n",
    "    return meas\n",
    "\n",
    "def load_transformations(R_csv, T_csv):\n",
    "    \"\"\"Loads data from the specified path\"\"\"\n",
    "    R = pd.read_csv(R_csv,header=None).to_numpy()\n",
    "    T = pd.read_csv(T_csv,header=None).to_numpy()\n",
    "    return R, T"
   ]
  },
  {
   "cell_type": "code",
   "execution_count": 109,
   "metadata": {},
   "outputs": [],
   "source": [
    "# Camera 1\n",
    "K1, C1 = load_data_camera('data_csv/Kf_1.csv', 'data_csv/C_1.csv')\n",
    "z1 = load_measurement('data_csv/z_1.csv')\n",
    "\n",
    "# Camera 2\n",
    "K2, C2 = load_data_camera('data_csv/Kf_2.csv', 'data_csv/C_2.csv')\n",
    "z2 = load_measurement('data_csv/z_2.csv')\n",
    "\n",
    "# load the transformations\n",
    "R, T = load_transformations('data_csv/R.csv', 'data_csv/T.csv')"
   ]
  },
  {
   "cell_type": "code",
   "execution_count": 110,
   "metadata": {},
   "outputs": [],
   "source": [
    "def EKF(P, cov, H, Q, R, z, pred_z):\n",
    "    pred_P = P.reshape(-1,1)\n",
    "    pred_cov = cov + Q\n",
    "\n",
    "    V = z.reshape(-1,1) - pred_z.reshape(-1,1)\n",
    "    S =  H @ pred_cov @ H.T + R\n",
    "\n",
    "    K = pred_cov @ H.T @ np.linalg.inv(S)\n",
    "    # print(K.shape, V.shape)\n",
    "    P = pred_P - K @ V\n",
    "    cov = (np.eye(3) - K @ H) @ pred_cov\n",
    "\n",
    "    return P, cov\n"
   ]
  },
  {
   "cell_type": "markdown",
   "metadata": {},
   "source": [
    "# Sequential EKF\n",
    "Sequentially predict and update on multiple measurements"
   ]
  },
  {
   "cell_type": "code",
   "execution_count": 117,
   "metadata": {},
   "outputs": [
    {
     "name": "stdout",
     "output_type": "stream",
     "text": [
      "[[ 6.16865431e+02]\n",
      " [ 1.55900564e+03]\n",
      " [-1.49481155e-02]] [[ 1.86521591e+03  4.71398352e+03  9.20001777e-03]\n",
      " [ 4.71398352e+03  1.19136467e+04  2.32517965e-02]\n",
      " [ 9.20017402e-03  2.32517733e-02 -2.12316884e-03]]\n"
     ]
    }
   ],
   "source": [
    "P1 = np.array([1, 1, 1])\n",
    "cov1 = np.eye(3) * 0.1\n",
    "\n",
    "Q1 = np.eye(3) * 1000\n",
    "Q2 = np.eye(3) * 0\n",
    "\n",
    "R1 = np.eye(2) * 1000\n",
    "R2 = np.eye(2) * 1000\n",
    "\n",
    "for z_1, z_2 in zip(z1, z2):\n",
    "    # print(P1.shape, cov1.shape)\n",
    "    P1= P1.reshape(-1,)\n",
    "    pred_z = (1/P1[2]) * K1@P1[:2].reshape(-1,1) + C1\n",
    "    # measurement jacobian every time step\n",
    "    H1 = K1 @ np.array([[1/P1[2], 0 , -P1[0]/(P1[2]**2)],[0, 1/P1[2], -P1[1]/(P1[2]**2)]])\n",
    "    P1, cov1 = EKF(P1, cov1, H1, Q1, R1, z_1, pred_z)\n",
    "\n",
    "    trans_P = (R.T@ P1 - R.T@T).reshape(-1,)\n",
    "    # print(trans_P.shape)\n",
    "    pred_z = (1/trans_P[2]) * K2 @ trans_P[:2].reshape(-1,1) + C2\n",
    "    # measurement jacobian every time step\n",
    "    # print(trans_P)\n",
    "\n",
    "    \n",
    "    H2 = K2 @ np.array([[1/trans_P[2], 0 , -trans_P[0]/(trans_P[2]**2)],[0, 1/trans_P[2], -trans_P[1]/(trans_P[2]**2)]]) @ R.T\n",
    "    P1, cov1 = EKF(P1, cov1, H2, Q2, R2, z_2, pred_z)\n",
    "\n",
    "print(P1, cov1)"
   ]
  },
  {
   "cell_type": "markdown",
   "metadata": {},
   "source": [
    "# Batch EKF\n",
    "Stack multiple measurements to get better predictions"
   ]
  },
  {
   "cell_type": "code",
   "execution_count": 119,
   "metadata": {},
   "outputs": [
    {
     "name": "stdout",
     "output_type": "stream",
     "text": [
      "[[1.73255760e+03]\n",
      " [2.52256323e+03]\n",
      " [1.76695336e-06]]\n",
      "[[ 8.06482740e+03  1.24535181e+04 -5.81692363e-03]\n",
      " [ 1.24535181e+04  2.06416590e+04 -1.05828272e-04]\n",
      " [-1.01522083e-03 -2.08127039e-03 -6.73125223e+03]]\n"
     ]
    }
   ],
   "source": [
    "P = P1 #np.vstack((P1.reshape(3,1), P2.reshape(3,1)))\n",
    "cov= cov1\n",
    "H = np.vstack((H1, H2))\n",
    "R_noise = np.eye(4) * 1000 # Block matrix : [[R1, 0], [0, R2]]\n",
    "Q_noise = Q1 + Q2\n",
    "\n",
    "for z_1, z_2 in zip(z1, z2):\n",
    "    # print (P.shape, cov.shape, H.shape, R_noise.shape, Q_noise.shape)\n",
    "    P = P.reshape(-1,)\n",
    "    # prediction from the first camera\n",
    "    pred_z1 = (1/P[2]) * K1@P[:2].reshape(-1,1) + C1\n",
    "    # Its measurement jacobian\n",
    "    H1 = K1 @ np.array([[1/P[2], 0 , -P[0]/(P[2]**2)],[0, 1/P[2], -P[1]/(P[2]**2)]])\n",
    "\n",
    "    # prediction from the second camera\n",
    "    # print(R.shape, T.shape, P.shape)\n",
    "    trans_P = R.T@ P - R.T@T\n",
    "    trans_P = trans_P.reshape(-1,)\n",
    "    pred_z2 = (1/trans_P[2]) * K2 @ trans_P[:2].reshape(-1,1) + C2\n",
    "    # Its measurement jacobian\n",
    "    H2 = K2 @ np.array([[1/trans_P[2], 0 , -trans_P[0]/(trans_P[2]**2)],[0, 1/trans_P[2], -trans_P[1]/(trans_P[2]**2)]]) @ R.T\n",
    "\n",
    "    H = np.vstack((H1, H2))\n",
    "    pred_z = np.vstack((pred_z1, pred_z2))\n",
    "\n",
    "    z = np.vstack((z_1.reshape(-1,1), z_2.reshape(-1,1)))\n",
    "    P, cov = EKF(P, cov, H, Q_noise, R_noise, z, pred_z)\n",
    "\n",
    "    \n",
    "\n",
    "print(P)\n",
    "print(cov)"
   ]
  },
  {
   "cell_type": "code",
   "execution_count": null,
   "metadata": {},
   "outputs": [],
   "source": []
  }
 ],
 "metadata": {
  "kernelspec": {
   "display_name": "MLProj",
   "language": "python",
   "name": "python3"
  },
  "language_info": {
   "codemirror_mode": {
    "name": "ipython",
    "version": 3
   },
   "file_extension": ".py",
   "mimetype": "text/x-python",
   "name": "python",
   "nbconvert_exporter": "python",
   "pygments_lexer": "ipython3",
   "version": "3.10.14"
  }
 },
 "nbformat": 4,
 "nbformat_minor": 2
}
