{
 "cells": [
  {
   "cell_type": "code",
   "execution_count": 5,
   "metadata": {},
   "outputs": [],
   "source": [
    "import pandas as pd\n",
    "import numpy as np\n",
    "import os\n",
    "import matplotlib.pyplot as plt\n",
    "from numpy.random import randn, rand\n",
    "from scipy.stats import multivariate_normal\n",
    "from tqdm import tqdm\n"
   ]
  },
  {
   "cell_type": "code",
   "execution_count": 6,
   "metadata": {},
   "outputs": [],
   "source": [
    "def load_data_camera(K_csv, C_csv):\n",
    "    \"\"\"Loads data from the specified path\"\"\"\n",
    "    K = pd.read_csv(K_csv, header=None).to_numpy()\n",
    "    # print(pd.read_csv(K_csv))\n",
    "    C = pd.read_csv(C_csv, header=None).to_numpy()\n",
    "    return K, C\n",
    "\n",
    "def load_measurement(meas_csv):\n",
    "    \"\"\"Loads data from the specified path\"\"\"\n",
    "    meas = pd.read_csv(meas_csv,header=None).to_numpy()\n",
    "    return meas\n",
    "\n",
    "def load_transformations(R_csv, T_csv):\n",
    "    \"\"\"Loads data from the specified path\"\"\"\n",
    "    R = pd.read_csv(R_csv,header=None).to_numpy()\n",
    "    T = pd.read_csv(T_csv,header=None).to_numpy()\n",
    "    return R, T"
   ]
  },
  {
   "cell_type": "code",
   "execution_count": 7,
   "metadata": {},
   "outputs": [],
   "source": [
    "# Camera 1\n",
    "K1, C1 = load_data_camera('data_csv/Kf_1.csv', 'data_csv/C_1.csv')\n",
    "z1 = load_measurement('data_csv/z_1.csv')\n",
    "\n",
    "# Camera 2\n",
    "K2, C2 = load_data_camera('data_csv/Kf_2.csv', 'data_csv/C_2.csv')\n",
    "z2 = load_measurement('data_csv/z_2.csv')\n",
    "\n",
    "# load the transformations\n",
    "R, T = load_transformations('data_csv/R.csv', 'data_csv/T.csv')"
   ]
  },
  {
   "cell_type": "code",
   "execution_count": 8,
   "metadata": {},
   "outputs": [],
   "source": [
    "class PF:\n",
    "    def __init__(self, N, Q, process_func):\n",
    "        \n",
    "        self.N = N\n",
    "        x = np.zeros((N, 3))\n",
    "        self.x = x #x + np.random.multivariate_normal(np.zeros(3), Q, size=N)\n",
    "        self.w = np.ones(N) / N\n",
    "\n",
    "        self.f = process_func\n",
    "        self.Q = Q\n",
    "\n",
    "\n",
    "    def predict(self):\n",
    "        pass\n",
    "\n",
    "    def sample_motion(self):\n",
    "        # f = 1\n",
    "        # x = f * x\n",
    "        # x = np.random.multivariate_normal(self.x, self.Q)\n",
    "        x = self.f(self.x, self.Q)\n",
    "        self.x = x\n",
    "\n",
    "    def importance_sampling(self, z, h_func, R):\n",
    "        for i in range(self.N):\n",
    "            w = multivariate_normal.pdf(z, h_func(self.x[i]), R)\n",
    "            self.w[i] *= w\n",
    "\n",
    "        self.w = self.w / np.sum(self.w)\n",
    "        n_eff = 1 / np.sum(np.power(self.w, 2))\n",
    "\n",
    "        if n_eff < self.N:\n",
    "            self.resample()\n",
    "        return self.x\n",
    "\n",
    "    def resample(self):\n",
    "        # low variance resampling\n",
    "        W = np.cumsum(self.w)\n",
    "        r = rand(1) / self.N\n",
    "        # r = 0.5 / self.n\n",
    "        j = 1\n",
    "        for i in range(self.N):\n",
    "            u = r + (i - 1) / self.N\n",
    "            while u > W[j]:\n",
    "                j = j + 1\n",
    "            self.x[i, :] = self.x[j, :]\n",
    "            self.w[i] = 1 / self.N\n",
    "\n",
    "\n"
   ]
  },
  {
   "cell_type": "code",
   "execution_count": 43,
   "metadata": {},
   "outputs": [],
   "source": [
    "P1 = np.array([1, 1, 1])\n",
    "\n",
    "Q1 = np.eye(3) * 10\n",
    "Q2 = np.eye(3) * 0\n",
    "\n",
    "R1 = np.eye(2) * 1000\n",
    "R2 = np.eye(2) * 1000\n",
    "\n",
    "def h1_func(x):\n",
    "    pred_z = (1/x[2]) * K1 @ x[:2].reshape(-1,1) + C1\n",
    "    return pred_z.reshape(-1,)\n",
    "\n",
    "def h2_func(x):\n",
    "    trans_P = (R.T@ x - R.T@T).reshape(-1,)\n",
    "    # print(trans_P.shape)\n",
    "    pred_z = (1/trans_P[2]) * K2 @ trans_P[:2].reshape(-1,1) + C2\n",
    "    return pred_z.reshape(-1,)\n",
    "\n",
    "def process_func(x, Q):\n",
    "    x = x.reshape(-1,3)\n",
    "    # print(x.shape)\n",
    "    return x + np.random.multivariate_normal(np.zeros(3), Q, size=x.shape[0])\n",
    "\n",
    "particles_size = 10000\n",
    "particle_filter = PF(particles_size, Q1, process_func)"
   ]
  },
  {
   "cell_type": "code",
   "execution_count": 44,
   "metadata": {},
   "outputs": [
    {
     "name": "stdout",
     "output_type": "stream",
     "text": [
      "[835.9 771.8]\n",
      "[259.66796956 760.43129513]\n",
      "[[-1.15556637  0.18585733 -2.2136541 ]]\n",
      "[[1. 1. 1.]]\n",
      "(2,)\n",
      "[386.9 302.4]\n",
      "[835.9 771.8]\n",
      "[[1000.    0.]\n",
      " [   0. 1000.]]\n"
     ]
    },
    {
     "data": {
      "text/plain": [
       "3.795653445914226e-96"
      ]
     },
     "execution_count": 44,
     "metadata": {},
     "output_type": "execute_result"
    }
   ],
   "source": [
    "# testing functions:\n",
    "# x = np.array([1, 1, 1])\n",
    "# x = np.array([-0.14477037, 0.8104404, 8.6541336 ])\n",
    "# x = np.array([-0.14477037, 0.8104404, 8.6541336 ])\n",
    "\n",
    "print(h1_func(x))\n",
    "print(h2_func(x))\n",
    "print(process_func(x, Q1))\n",
    "print(process_func(x, Q2))\n",
    "\n",
    "# print(np.random.multivariate_normal(np.zeros(3), Q1, size=1000).shape)\n",
    "\n",
    "z =  z1[1]\n",
    "print(z.shape)\n",
    "print(z)\n",
    "print(h1_func(x))\n",
    "print(R1)\n",
    "multivariate_normal.pdf(z, h1_func(x).reshape(-1,), R1)\n"
   ]
  },
  {
   "cell_type": "markdown",
   "metadata": {},
   "source": [
    "# Sequence"
   ]
  },
  {
   "cell_type": "code",
   "execution_count": 45,
   "metadata": {},
   "outputs": [
    {
     "name": "stderr",
     "output_type": "stream",
     "text": [
      "1it [00:01,  1.25s/it]"
     ]
    },
    {
     "name": "stdout",
     "output_type": "stream",
     "text": [
      "[-0.19911757  0.75427719  3.49147291]\n"
     ]
    },
    {
     "name": "stderr",
     "output_type": "stream",
     "text": [
      "2it [00:02,  1.23s/it]"
     ]
    },
    {
     "name": "stdout",
     "output_type": "stream",
     "text": [
      "[-0.20454954  0.28069524  4.07379932]\n"
     ]
    },
    {
     "name": "stderr",
     "output_type": "stream",
     "text": [
      "3it [00:03,  1.23s/it]"
     ]
    },
    {
     "name": "stdout",
     "output_type": "stream",
     "text": [
      "[0.13320639 0.59297981 5.54049888]\n"
     ]
    },
    {
     "name": "stderr",
     "output_type": "stream",
     "text": [
      "4it [00:04,  1.22s/it]"
     ]
    },
    {
     "name": "stdout",
     "output_type": "stream",
     "text": [
      "[-0.07559589  0.74711069  3.09651492]\n"
     ]
    },
    {
     "name": "stderr",
     "output_type": "stream",
     "text": [
      "5it [00:06,  1.21s/it]"
     ]
    },
    {
     "name": "stdout",
     "output_type": "stream",
     "text": [
      "[-0.26454823  0.87787637  5.29493366]\n"
     ]
    },
    {
     "name": "stderr",
     "output_type": "stream",
     "text": [
      "6it [00:07,  1.22s/it]"
     ]
    },
    {
     "name": "stdout",
     "output_type": "stream",
     "text": [
      "[-0.28110692  0.45670879  4.3157214 ]\n"
     ]
    },
    {
     "name": "stderr",
     "output_type": "stream",
     "text": [
      "7it [00:08,  1.21s/it]"
     ]
    },
    {
     "name": "stdout",
     "output_type": "stream",
     "text": [
      "[-0.25620333  0.72716369  5.13334566]\n"
     ]
    },
    {
     "name": "stderr",
     "output_type": "stream",
     "text": [
      "8it [00:09,  1.22s/it]"
     ]
    },
    {
     "name": "stdout",
     "output_type": "stream",
     "text": [
      "[-0.09575543  0.63486874  6.07021091]\n"
     ]
    },
    {
     "name": "stderr",
     "output_type": "stream",
     "text": [
      "9it [00:10,  1.21s/it]"
     ]
    },
    {
     "name": "stdout",
     "output_type": "stream",
     "text": [
      "[-0.23379843  0.49036738  4.75775715]\n"
     ]
    },
    {
     "name": "stderr",
     "output_type": "stream",
     "text": [
      "10it [00:12,  1.20s/it]"
     ]
    },
    {
     "name": "stdout",
     "output_type": "stream",
     "text": [
      "[-0.14475605  0.35083901  3.94638064]\n"
     ]
    },
    {
     "name": "stderr",
     "output_type": "stream",
     "text": [
      "11it [00:13,  1.19s/it]"
     ]
    },
    {
     "name": "stdout",
     "output_type": "stream",
     "text": [
      "[-0.66408966  0.56107972  5.10159567]\n"
     ]
    },
    {
     "name": "stderr",
     "output_type": "stream",
     "text": [
      "12it [00:14,  1.19s/it]"
     ]
    },
    {
     "name": "stdout",
     "output_type": "stream",
     "text": [
      "[-0.3443877   0.5578457   4.74416676]\n"
     ]
    },
    {
     "name": "stderr",
     "output_type": "stream",
     "text": [
      "13it [00:15,  1.20s/it]"
     ]
    },
    {
     "name": "stdout",
     "output_type": "stream",
     "text": [
      "[-0.10058515  0.47341157  3.52135979]\n"
     ]
    },
    {
     "name": "stderr",
     "output_type": "stream",
     "text": [
      "14it [00:16,  1.20s/it]"
     ]
    },
    {
     "name": "stdout",
     "output_type": "stream",
     "text": [
      "[-0.35499919  0.37708492  4.4484306 ]\n"
     ]
    },
    {
     "name": "stderr",
     "output_type": "stream",
     "text": [
      "15it [00:18,  1.20s/it]"
     ]
    },
    {
     "name": "stdout",
     "output_type": "stream",
     "text": [
      "[-0.03888233  0.56058024  5.00153299]\n"
     ]
    },
    {
     "name": "stderr",
     "output_type": "stream",
     "text": [
      "16it [00:19,  1.20s/it]"
     ]
    },
    {
     "name": "stdout",
     "output_type": "stream",
     "text": [
      "[-0.17395973  0.36342399  4.93959857]\n"
     ]
    },
    {
     "name": "stderr",
     "output_type": "stream",
     "text": [
      "17it [00:20,  1.24s/it]"
     ]
    },
    {
     "name": "stdout",
     "output_type": "stream",
     "text": [
      "[-0.20229138  0.60819291  5.11412992]\n"
     ]
    },
    {
     "name": "stderr",
     "output_type": "stream",
     "text": [
      "18it [00:21,  1.24s/it]"
     ]
    },
    {
     "name": "stdout",
     "output_type": "stream",
     "text": [
      "[-0.22621516  0.54610363  3.56482837]\n"
     ]
    },
    {
     "name": "stderr",
     "output_type": "stream",
     "text": [
      "19it [00:23,  1.23s/it]"
     ]
    },
    {
     "name": "stdout",
     "output_type": "stream",
     "text": [
      "[-0.01421802  0.8273513   3.83370223]\n"
     ]
    },
    {
     "name": "stderr",
     "output_type": "stream",
     "text": [
      "20it [00:24,  1.22s/it]"
     ]
    },
    {
     "name": "stdout",
     "output_type": "stream",
     "text": [
      "[-0.1539303   0.48638049  3.86667759]\n"
     ]
    },
    {
     "name": "stderr",
     "output_type": "stream",
     "text": [
      "\n"
     ]
    }
   ],
   "source": [
    "\n",
    "for z_1, z_2 in tqdm(zip(z1, z2)):\n",
    "    particle_filter.sample_motion()\n",
    "    particle_filter.importance_sampling(z_1, h1_func, R1)\n",
    "    # w = multivariate_normal.pdf(z_1, h1_func(x), R1)\n",
    "    # print(w)\n",
    "    particle_filter.importance_sampling(z_2, h2_func, R2)\n",
    "    print(particle_filter.x.mean(axis=0))"
   ]
  },
  {
   "cell_type": "code",
   "execution_count": 46,
   "metadata": {},
   "outputs": [
    {
     "data": {
      "text/plain": [
       "array([-0.1539303 ,  0.48638049,  3.86667759])"
      ]
     },
     "execution_count": 46,
     "metadata": {},
     "output_type": "execute_result"
    }
   ],
   "source": [
    "# output\n",
    "particle_filter.x.mean(axis=0)"
   ]
  },
  {
   "cell_type": "markdown",
   "metadata": {},
   "source": [
    "# Batch "
   ]
  },
  {
   "cell_type": "code",
   "execution_count": 47,
   "metadata": {},
   "outputs": [],
   "source": [
    "def h_func(x):\n",
    "    pred_z1 = h1_func(x) \n",
    "    pred_z2 = h2_func(x)\n",
    "    return np.hstack((pred_z1, pred_z2))"
   ]
  },
  {
   "cell_type": "code",
   "execution_count": 51,
   "metadata": {},
   "outputs": [
    {
     "name": "stderr",
     "output_type": "stream",
     "text": [
      "20it [00:15,  1.30it/s]\n"
     ]
    }
   ],
   "source": [
    "R_stacked = np.block([[R1, np.zeros((2,2))], [np.zeros((2,2)), R2]])\n",
    "x = np.array([1, 1, 1])\n",
    "for z_1, z_2 in tqdm(zip(z1, z2)):\n",
    "    particle_filter.sample_motion()\n",
    "    z = np.hstack((z_1, z_2))#.reshape(-1,)\n",
    "    # w = multivariate_normal.pdf(z, h_func(x), R_stacked)\n",
    "    # print(w)\n",
    "    # z = np.hstack((z_1, z_2)).reshape(-1,1)\n",
    "    # print(z, z_1, z_2)\n",
    "    particle_filter.importance_sampling(z, h_func, R_stacked)\n"
   ]
  },
  {
   "cell_type": "code",
   "execution_count": 52,
   "metadata": {},
   "outputs": [
    {
     "data": {
      "text/plain": [
       "array([-0.58289359,  0.85425295,  3.6565127 ])"
      ]
     },
     "execution_count": 52,
     "metadata": {},
     "output_type": "execute_result"
    }
   ],
   "source": [
    "particle_filter.x.mean(axis=0)"
   ]
  },
  {
   "cell_type": "code",
   "execution_count": null,
   "metadata": {},
   "outputs": [],
   "source": []
  }
 ],
 "metadata": {
  "kernelspec": {
   "display_name": "MLProj",
   "language": "python",
   "name": "python3"
  },
  "language_info": {
   "codemirror_mode": {
    "name": "ipython",
    "version": 3
   },
   "file_extension": ".py",
   "mimetype": "text/x-python",
   "name": "python",
   "nbconvert_exporter": "python",
   "pygments_lexer": "ipython3",
   "version": "3.10.14"
  }
 },
 "nbformat": 4,
 "nbformat_minor": 2
}
